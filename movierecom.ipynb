{
 "cells": [
  {
   "cell_type": "markdown",
   "metadata": {},
   "source": [
    "## imports\n"
   ]
  },
  {
   "cell_type": "code",
   "execution_count": 8,
   "metadata": {},
   "outputs": [],
   "source": [
    "import numpy as np\n",
    "from lightfm.datasets import fetch_movielens\n",
    "from lightfm import LightFM\n"
   ]
  },
  {
   "cell_type": "code",
   "execution_count": 9,
   "metadata": {},
   "outputs": [],
   "source": [
    "# fetch data and format it\n",
    "data = fetch_movielens(min_rating=4.0)"
   ]
  },
  {
   "cell_type": "code",
   "execution_count": 11,
   "metadata": {},
   "outputs": [
    {
     "name": "stdout",
     "output_type": "stream",
     "text": [
      "<943x1682 sparse matrix of type '<class 'numpy.int32'>'\n",
      "\twith 49906 stored elements in COOrdinate format>\n",
      "<943x1682 sparse matrix of type '<class 'numpy.int32'>'\n",
      "\twith 5469 stored elements in COOrdinate format>\n"
     ]
    }
   ],
   "source": [
    "\n",
    "print(repr(data['train']))\n",
    "print(repr(data['test']))"
   ]
  },
  {
   "cell_type": "code",
   "execution_count": 14,
   "metadata": {},
   "outputs": [],
   "source": [
    "#create model\n",
    "\n",
    "model = LightFM(loss='warp')"
   ]
  },
  {
   "cell_type": "code",
   "execution_count": 22,
   "metadata": {},
   "outputs": [
    {
     "name": "stdout",
     "output_type": "stream",
     "text": [
      "User 3\n",
      "   known positives :\n",
      "      Seven (Se7en) (1995)\n",
      "      Contact (1997)\n",
      "      Starship Troopers (1997)\n",
      "      recommended: \n",
      "      Contact (1997)\n",
      "      Air Force One (1997)\n",
      "      Devil's Advocate, The (1997)\n",
      "User 25\n",
      "   known positives :\n",
      "      Dead Man Walking (1995)\n",
      "      Star Wars (1977)\n",
      "      Fargo (1996)\n",
      "      recommended: \n",
      "      English Patient, The (1996)\n",
      "      Contact (1997)\n",
      "      Fargo (1996)\n",
      "User 450\n",
      "   known positives :\n",
      "      Contact (1997)\n",
      "      George of the Jungle (1997)\n",
      "      Event Horizon (1997)\n",
      "      recommended: \n",
      "      Air Force One (1997)\n",
      "      Conspiracy Theory (1997)\n",
      "      Saint, The (1997)\n"
     ]
    }
   ],
   "source": [
    "#train model\n",
    "\n",
    "model.fit(data['train'], epochs=30, num_threads=2)\n",
    "\n",
    "def sample_recommendation(model, data, user_ids):\n",
    "    #number of users and moveis in training data\n",
    "    n_users, n_items = data['train'].shape\n",
    "    \n",
    "    for user_id in user_ids:\n",
    "        #movies they already like\n",
    "        known_positives = data['item_labels'][data['train'].tocsr()[user_id].indices]\n",
    "        \n",
    "        #movies our model predicts they will like\n",
    "        scores = model.predict(user_id, np.arange(n_items))\n",
    "        \n",
    "        #rank them in order of most liked to least\n",
    "        top_items = data['item_labels'][np.argsort(-scores)]\n",
    "        \n",
    "        print ('User %s' % user_id)\n",
    "        print (\"   known positives :\")\n",
    "\n",
    "        for x in known_positives[:3]:\n",
    "            print(\"      %s\" % x)\n",
    "\n",
    "        print (\"      recommended: \")\n",
    "        for x in top_items[:3]:\n",
    "            print(\"      %s\" % x)\n",
    "    \n",
    "    \n",
    "sample_recommendation(model, data, [3, 25, 450])"
   ]
  },
  {
   "cell_type": "code",
   "execution_count": null,
   "metadata": {},
   "outputs": [],
   "source": []
  }
 ],
 "metadata": {
  "kernelspec": {
   "display_name": "Python 3",
   "language": "python",
   "name": "python3"
  },
  "language_info": {
   "codemirror_mode": {
    "name": "ipython",
    "version": 3
   },
   "file_extension": ".py",
   "mimetype": "text/x-python",
   "name": "python",
   "nbconvert_exporter": "python",
   "pygments_lexer": "ipython3",
   "version": "3.6.4"
  }
 },
 "nbformat": 4,
 "nbformat_minor": 2
}
